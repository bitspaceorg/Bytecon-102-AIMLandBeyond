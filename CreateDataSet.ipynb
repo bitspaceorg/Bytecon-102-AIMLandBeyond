{
 "cells": [
  {
   "cell_type": "code",
   "execution_count": 1,
   "id": "da72a621-e871-473d-ab5a-7ad9d7037d04",
   "metadata": {},
   "outputs": [],
   "source": [
    "import numpy as np\n",
    "import pandas as pd"
   ]
  },
  {
   "cell_type": "code",
   "execution_count": 2,
   "id": "ef95b1ae-f51c-4525-9d7a-7b0840bad52e",
   "metadata": {},
   "outputs": [],
   "source": [
    "feature_set = np.random.randint(1, 30, size = (100,3))\n",
    "target_set = np.array([])"
   ]
  },
  {
   "cell_type": "code",
   "execution_count": 3,
   "id": "440080b0-fb4a-4098-aceb-f0a33b5f2f62",
   "metadata": {},
   "outputs": [],
   "source": [
    "for [x,y,z] in feature_set:\n",
    "    eqn = 2*x + 4*y - 7*z\n",
    "    eqn_arr = np.array([eqn])\n",
    "    target_set = np.append(target_set,eqn)"
   ]
  },
  {
   "cell_type": "code",
   "execution_count": 4,
   "id": "fe34440b-0aa8-42da-a380-2bb10a173575",
   "metadata": {},
   "outputs": [],
   "source": [
    "df = pd.DataFrame(feature_set)\n",
    "df.to_csv(\"EquationDataset.csv\")"
   ]
  },
  {
   "cell_type": "code",
   "execution_count": null,
   "id": "6b6a5ac5-ff12-4229-b338-cd542985ef16",
   "metadata": {},
   "outputs": [],
   "source": []
  }
 ],
 "metadata": {
  "kernelspec": {
   "display_name": "Python 3 (ipykernel)",
   "language": "python",
   "name": "python3"
  },
  "language_info": {
   "codemirror_mode": {
    "name": "ipython",
    "version": 3
   },
   "file_extension": ".py",
   "mimetype": "text/x-python",
   "name": "python",
   "nbconvert_exporter": "python",
   "pygments_lexer": "ipython3",
   "version": "3.11.5"
  }
 },
 "nbformat": 4,
 "nbformat_minor": 5
}
