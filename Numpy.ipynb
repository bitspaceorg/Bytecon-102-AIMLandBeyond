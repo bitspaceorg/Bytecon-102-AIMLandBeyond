{
 "cells": [
  {
   "cell_type": "code",
   "execution_count": 1,
   "id": "411690cf-b42e-4159-9fb5-821f13c7809c",
   "metadata": {},
   "outputs": [],
   "source": [
    "import numpy as np"
   ]
  },
  {
   "cell_type": "markdown",
   "id": "58415104-7e67-4342-bf75-a3357a2bb30b",
   "metadata": {},
   "source": [
    "# Nd-Array"
   ]
  },
  {
   "cell_type": "code",
   "execution_count": 6,
   "id": "7c69ece2-5160-4396-966d-d1a205cc57b4",
   "metadata": {},
   "outputs": [
    {
     "name": "stdout",
     "output_type": "stream",
     "text": [
      "[[1 2 3]\n",
      " [4 5 5]]\n"
     ]
    }
   ],
   "source": [
    "arr = np.array( [1, 2, 3] )\n",
    "arr2 = np.array( [ [1, 2, 3],\n",
    "                   [4, 5, 5] ])\n",
    "print(arr2)"
   ]
  },
  {
   "cell_type": "markdown",
   "id": "ce8ed8ba-27f2-4365-b6be-359677976c03",
   "metadata": {},
   "source": [
    "# LIST VS NUMPY"
   ]
  },
  {
   "cell_type": "code",
   "execution_count": 2,
   "id": "aab47c6e-513b-427f-bf06-1dd597f548e0",
   "metadata": {},
   "outputs": [
    {
     "name": "stdout",
     "output_type": "stream",
     "text": [
      "LIST :  1.5642669200897217 seconds\n",
      "NP ARRAY :  0.026340007781982422 seconds\n"
     ]
    }
   ],
   "source": [
    "import time\n",
    " \n",
    "size = 10000000\n",
    "\n",
    "list1 = range(size)\n",
    "list2 = range(size)\n",
    "array1 = np.arange(size)\n",
    "array2 = np.arange(size)\n",
    " \n",
    "initialTime = time.time()\n",
    "\n",
    "sm = 0\n",
    "for i in range(size):\n",
    "    sm +=  list1[i] + list2[i]\n",
    " \n",
    "print(\"LIST : \", (time.time() - initialTime), \"seconds\")\n",
    " \n",
    "initialTime = time.time()\n",
    " \n",
    "resultantArray = array1 * array2\n",
    " \n",
    "print(\"NP ARRAY : \", (time.time() - initialTime), \"seconds\")"
   ]
  },
  {
   "cell_type": "markdown",
   "id": "daa697ce-ccd5-4863-8293-f12c27229d27",
   "metadata": {},
   "source": [
    "# Methods"
   ]
  },
  {
   "cell_type": "code",
   "execution_count": 10,
   "id": "3b5367ce-707d-4a19-86a1-c8c47ad9820a",
   "metadata": {},
   "outputs": [
    {
     "name": "stdout",
     "output_type": "stream",
     "text": [
      "int64\n",
      "(2, 3)\n",
      "2\n",
      "6\n"
     ]
    }
   ],
   "source": [
    "print(arr2.dtype)\n",
    "print(arr2.shape)\n",
    "print(arr2.ndim)\n",
    "print(arr2.size)\n",
    "# np.nan\n",
    "# np.inf"
   ]
  },
  {
   "cell_type": "markdown",
   "id": "fa371646-b820-42c6-b1ef-08a7c3555d10",
   "metadata": {},
   "source": [
    "# TO CREATE NP ARRAY"
   ]
  },
  {
   "cell_type": "code",
   "execution_count": 11,
   "id": "bb44abd5-2450-40e7-9f41-748c449803b1",
   "metadata": {},
   "outputs": [
    {
     "name": "stdout",
     "output_type": "stream",
     "text": [
      "[[5 5 5]\n",
      " [5 5 5]]\n",
      "[[1. 1. 1.]\n",
      " [1. 1. 1.]\n",
      " [1. 1. 1.]\n",
      " [1. 1. 1.]\n",
      " [1. 1. 1.]]\n",
      "[2 3 4 5 6 7 8 9]\n",
      "[ 1.    5.75 10.5  15.25 20.  ]\n",
      "[[28 14 17 49]\n",
      " [96 74 84 30]]\n",
      "[[1 0 0 2 1]\n",
      " [1 0 0 0 0]\n",
      " [0 0 0 2 1]]\n",
      "[[ 4  3 10  4  4]\n",
      " [10  4 10  4 10]\n",
      " [ 4 10 10  4  3]]\n"
     ]
    }
   ],
   "source": [
    "print(np.full((2,3), 5))\n",
    "print(np.ones((5,3)))\n",
    "print(np.arange(2,10))\n",
    "print(np.linspace(1, 20, 5))\n",
    "\n",
    "print(np.random.randint(2, 100, (2,4)))\n",
    "print(np.random.binomial(3, 0.2, (3,5)))\n",
    "print(np.random.choice( [10, 4,3], (3,5) ))"
   ]
  },
  {
   "cell_type": "markdown",
   "id": "28c16068-c393-49a5-802c-5d9e8791b0f3",
   "metadata": {},
   "source": [
    "# MANIPULATION"
   ]
  },
  {
   "cell_type": "code",
   "execution_count": null,
   "id": "5bcda0f3-9bc1-4d70-bd19-7ed1470e9ea6",
   "metadata": {},
   "outputs": [],
   "source": [
    "newArr = np.array( [[25, 10,  9,  5, 21, 3],\n",
    "                    [16, 13,  3, 23, 17, 8]] ) \n",
    "newArr2 = np.array( [[25, 10,  9,  5, 21, 3],\n",
    "                    [16, 13,  3, 23, 17, 8]] ) \n",
    "# print(newArr.reshape( (4,3) ))\n",
    "# print(newArr.flatten())\n",
    "# print(newArr.transpose())\n",
    "newArr = np.append(newArr, newArr2, axis=1 )\n",
    "newArr"
   ]
  },
  {
   "cell_type": "markdown",
   "id": "d88cf7a3-b388-4aff-b851-a2d906dd7345",
   "metadata": {},
   "source": [
    "# VECTOR LIKE BEHAVIOUR"
   ]
  },
  {
   "cell_type": "code",
   "execution_count": 12,
   "id": "be792759-21e3-4c63-bc6c-bcc03af6460f",
   "metadata": {},
   "outputs": [
    {
     "name": "stdout",
     "output_type": "stream",
     "text": [
      "[5, 3, 3, 7]\n",
      "[15 21]\n",
      "36\n"
     ]
    }
   ],
   "source": [
    "lst1 = [5, 3]\n",
    "lst2 = [3, 7]\n",
    "ar = np.array([5,3])\n",
    "ar2 = np.array([3,7])\n",
    "print(lst1 + lst2)\n",
    "print(ar * ar2)\n",
    "\n",
    "print(np.dot(ar, ar2))"
   ]
  },
  {
   "cell_type": "markdown",
   "id": "9ccac6dc-4d46-43d4-bb7f-938baaf3079e",
   "metadata": {
    "jp-MarkdownHeadingCollapsed": true
   },
   "source": [
    "# AGGREGATES"
   ]
  },
  {
   "cell_type": "code",
   "execution_count": null,
   "id": "eafdd288-1532-4297-9083-071e8b3d6b94",
   "metadata": {},
   "outputs": [],
   "source": [
    "print(newArr.min())\n",
    "print(newArr.max())\n",
    "print(newArr.mean())\n",
    "print(np.median(newArr))\n",
    "print(newArr.sum())\n",
    "print(newArr.std())"
   ]
  },
  {
   "cell_type": "markdown",
   "id": "e3c38e26-83fa-4b94-9f9f-4054537fff56",
   "metadata": {},
   "source": [
    "# --------------------"
   ]
  }
 ],
 "metadata": {
  "kernelspec": {
   "display_name": "Python 3 (ipykernel)",
   "language": "python",
   "name": "python3"
  },
  "language_info": {
   "codemirror_mode": {
    "name": "ipython",
    "version": 3
   },
   "file_extension": ".py",
   "mimetype": "text/x-python",
   "name": "python",
   "nbconvert_exporter": "python",
   "pygments_lexer": "ipython3",
   "version": "3.11.5"
  }
 },
 "nbformat": 4,
 "nbformat_minor": 5
}
