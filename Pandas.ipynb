{
 "cells": [
  {
   "cell_type": "code",
   "execution_count": null,
   "id": "a916b537-7a0f-4c17-b768-f7c6e7a4c294",
   "metadata": {},
   "outputs": [],
   "source": [
    "import pandas as pd"
   ]
  },
  {
   "cell_type": "markdown",
   "id": "8abc087a-93f2-4a83-b9dd-8074f6da3ede",
   "metadata": {},
   "source": [
    "# SERIES"
   ]
  },
  {
   "cell_type": "code",
   "execution_count": null,
   "id": "5663cb3b-8532-403c-a239-1f31a02051fe",
   "metadata": {},
   "outputs": [],
   "source": [
    "series = pd.Series([1, 3, 4], ['a', 'b', 'c'])\n",
    "series\n",
    "series['b']\n",
    "series.iloc[1]"
   ]
  },
  {
   "cell_type": "code",
   "execution_count": null,
   "id": "740a29ca-e8b0-4036-868d-7c09d0df9400",
   "metadata": {},
   "outputs": [],
   "source": [
    "s1 = pd.Series([5, 2, 4], ['a', 'b', 'c'])\n",
    "s2 = pd.Series([10, 5, 2], ['a', 'c', 'b'])\n",
    "\n",
    "print(s1+s2)"
   ]
  },
  {
   "cell_type": "code",
   "execution_count": null,
   "id": "6244823c-8a7f-48f2-ba31-d3fa7d0e4d86",
   "metadata": {},
   "outputs": [],
   "source": [
    "d1 = {'a': 1, 'b': 3, 'c': 4}\n",
    "d2 = {'a': 1, 'b': 3, 'c': 4}\n",
    "\n",
    "d1 + d2"
   ]
  },
  {
   "cell_type": "code",
   "execution_count": null,
   "id": "f0d972d8-c2b4-4487-894c-82d82bb633a9",
   "metadata": {},
   "outputs": [],
   "source": [
    "s1.head()\n",
    "s1.tail()"
   ]
  },
  {
   "cell_type": "code",
   "execution_count": null,
   "id": "ac664e97-d89e-4a52-a2e0-bbbf1285e6b5",
   "metadata": {},
   "outputs": [],
   "source": [
    "s1.sort_index()\n",
    "s1.sort_values()"
   ]
  },
  {
   "cell_type": "markdown",
   "id": "699fb4e5-0cd0-427c-9cdc-56328a0b9b58",
   "metadata": {},
   "source": [
    "# DATAFRAMES"
   ]
  },
  {
   "cell_type": "code",
   "execution_count": null,
   "id": "2313cdc7-2d00-4b4c-b776-30e92a5fda37",
   "metadata": {},
   "outputs": [],
   "source": [
    "dict = { 'name': ['mk', 'bs', 'sa', 'na'], 'score': [100, 99, 98,97] }\n",
    "df = pd.DataFrame.from_dict(dict)\n",
    "\n",
    "df = pd.read_csv(\"pokemon_data.csv\")\n",
    "# read_excel()\n",
    "\n",
    "df"
   ]
  },
  {
   "cell_type": "markdown",
   "id": "fd0d7014-d9a8-4c4a-beda-c0a19718fd4d",
   "metadata": {},
   "source": [
    "# CRUD WITH DF\n",
    "\n",
    "### READ"
   ]
  },
  {
   "cell_type": "code",
   "execution_count": null,
   "id": "6cbca5bf-936b-4581-891d-e8bbe168aa64",
   "metadata": {},
   "outputs": [],
   "source": [
    "df.head()\n",
    "df.tail()\n",
    "\n",
    "df.iloc[1:10, 1]\n",
    "df.Name\n",
    "df[ ['Name', 'Type 1', 'HP'] ]\n",
    "df"
   ]
  },
  {
   "cell_type": "code",
   "execution_count": null,
   "id": "f8929abe-f16a-4757-a158-0c1da0ef9cd7",
   "metadata": {},
   "outputs": [],
   "source": [
    "df['tot_point'] = df['HP'] + df['Attack']\n",
    "df\n",
    "\n",
    "def fxn(x):\n",
    "    return 2 * x \n",
    "df['HP'] = df['HP'].apply(fxn)\n",
    "df"
   ]
  },
  {
   "cell_type": "code",
   "execution_count": null,
   "id": "2d7ed834-2923-440d-acbc-2b8b4cd9543f",
   "metadata": {},
   "outputs": [],
   "source": [
    "df['HP'].aggregate(['sum', 'min', 'max'])"
   ]
  },
  {
   "cell_type": "code",
   "execution_count": null,
   "id": "85f4e302-de9b-4791-972c-91827e41dc2f",
   "metadata": {},
   "outputs": [],
   "source": [
    "df.drop([\"Sp. Def\"],axis=1, inplace = True)"
   ]
  },
  {
   "cell_type": "code",
   "execution_count": null,
   "id": "fec17c66-ae63-4527-8b24-50d19bc78f14",
   "metadata": {},
   "outputs": [],
   "source": [
    "df.pop('HP')"
   ]
  },
  {
   "cell_type": "code",
   "execution_count": null,
   "id": "275b1f61-29e3-4db3-8e42-0c993b843bde",
   "metadata": {},
   "outputs": [],
   "source": [
    "df"
   ]
  },
  {
   "cell_type": "code",
   "execution_count": null,
   "id": "059a0a90-e0fa-44eb-971d-70601ba558ad",
   "metadata": {},
   "outputs": [],
   "source": [
    "df = df.drop(df.index[0])"
   ]
  },
  {
   "cell_type": "code",
   "execution_count": null,
   "id": "da235644-b6b9-4e9d-8ef3-23ef45d99d8a",
   "metadata": {},
   "outputs": [],
   "source": [
    "df"
   ]
  },
  {
   "cell_type": "code",
   "execution_count": null,
   "id": "4e3fd97a-e2f4-41fa-8b1e-c5cd26afb551",
   "metadata": {},
   "outputs": [],
   "source": [
    "df.loc[ (df['Type 1'] == 'Fire') & (df['Legendary'] == True) ]"
   ]
  }
 ],
 "metadata": {
  "kernelspec": {
   "display_name": "Python 3 (ipykernel)",
   "language": "python",
   "name": "python3"
  },
  "language_info": {
   "codemirror_mode": {
    "name": "ipython",
    "version": 3
   },
   "file_extension": ".py",
   "mimetype": "text/x-python",
   "name": "python",
   "nbconvert_exporter": "python",
   "pygments_lexer": "ipython3",
   "version": "3.11.5"
  }
 },
 "nbformat": 4,
 "nbformat_minor": 5
}
